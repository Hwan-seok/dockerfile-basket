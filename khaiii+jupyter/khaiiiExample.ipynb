{
 "cells": [
  {
   "cell_type": "code",
   "execution_count": 19,
   "metadata": {},
   "outputs": [],
   "source": [
    "import khaiii \n",
    "\n",
    "api = khaiii.KhaiiiApi()"
   ]
  },
  {
   "cell_type": "code",
   "execution_count": 42,
   "metadata": {
    "scrolled": false
   },
   "outputs": [
    {
     "name": "stdout",
     "output_type": "stream",
     "text": [
      "('유전자', 'NNG')\n",
      "('의', 'JKG')\n",
      "('응용', 'NNG')\n",
      "('기술', 'NNG')\n",
      "('에', 'JKB')\n",
      "('대하', 'VV')\n",
      "('여', 'EC')\n",
      "('공부', 'NNG')\n",
      "('하', 'XSV')\n",
      "('고', 'EC')\n",
      "('이', 'NP')\n",
      "('를', 'JKO')\n",
      "('바탕', 'NNG')\n",
      "('으로', 'JKB')\n",
      "('GMO', 'SL')\n",
      "('식품', 'NNG')\n",
      "('과', 'JKB')\n",
      "('같이', 'MAG')\n",
      "('우리', 'NP')\n",
      "('주변', 'NNG')\n",
      "('에서', 'JKB')\n",
      "('유전자', 'NNG')\n",
      "('를', 'JKO')\n",
      "('응용', 'NNG')\n",
      "('하', 'XSV')\n",
      "('ㄴ', 'ETM')\n",
      "('사례', 'NNG')\n",
      "('를', 'JKO')\n",
      "('조사', 'NNG')\n",
      "('하', 'XSV')\n",
      "('였', 'EP')\n",
      "('으며', 'EC')\n",
      "('문제점', 'NNG')\n",
      "('에', 'JKB')\n",
      "('대하', 'VV')\n",
      "('여', 'EC')\n",
      "('토의', 'NNG')\n",
      "('하', 'XSV')\n",
      "('고', 'EC')\n",
      "('발표', 'NNG')\n",
      "('하', 'XSV')\n",
      "('ㅁ', 'ETN')\n"
     ]
    }
   ],
   "source": [
    "dic=[]\n",
    "sentence = \"유전자의 응용 기술에 대하여 공부하고 이를 바탕으로 GMO 식품과 같이 우리 주변에서 유전자를 응용한 사례를 조사하였으며 문제점에 대하여 토의하고 발표함\"\n",
    "\n",
    "for word in api.analyze(sentence):\n",
    "\n",
    "    for morph in word.morphs:\n",
    "        dic.append((morph.lex,morph.tag))\n",
    "\n",
    "for se in dic:\n",
    "    print(se)"
   ]
  },
  {
   "cell_type": "code",
   "execution_count": 37,
   "metadata": {},
   "outputs": [
    {
     "name": "stdout",
     "output_type": "stream",
     "text": [
      "['유전자', '의', '응용', '기술', '에', '대하', '여', '공부', '하', '고', '이', '를', '바탕', '으로', 'GMO', '식품', '과', '같이', '우리', '주변', '에서', '유전자', '를', '응용', '하', 'ㄴ', '사례', '를', '조사', '하', '였', '으며', '문제점', '에', '대하', '여', '토의', '하', '고', '발표', '하', 'ㅁ']\n"
     ]
    }
   ],
   "source": [
    "print(dic)"
   ]
  },
  {
   "cell_type": "code",
   "execution_count": null,
   "metadata": {},
   "outputs": [],
   "source": []
  }
 ],
 "metadata": {
  "kernelspec": {
   "display_name": "Python 3",
   "language": "python",
   "name": "python3"
  },
  "language_info": {
   "codemirror_mode": {
    "name": "ipython",
    "version": 3
   },
   "file_extension": ".py",
   "mimetype": "text/x-python",
   "name": "python",
   "nbconvert_exporter": "python",
   "pygments_lexer": "ipython3",
   "version": "3.6.9"
  }
 },
 "nbformat": 4,
 "nbformat_minor": 2
}
